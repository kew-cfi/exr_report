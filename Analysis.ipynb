{
 "cells": [
  {
   "cell_type": "code",
   "execution_count": 1,
   "metadata": {},
   "outputs": [],
   "source": [
    "from src.analysis.scraper import *"
   ]
  },
  {
   "cell_type": "code",
   "execution_count": 2,
   "metadata": {},
   "outputs": [
    {
     "name": "stdout",
     "output_type": "stream",
     "text": [
      "  fetching data for country: USD...\n",
      "  fetching data for country: JPY...\n",
      "  fetching data for country: BGN...\n",
      "  fetching data for country: CZK...\n",
      "  fetching data for country: DKK...\n",
      "  fetching data for country: GBP...\n"
     ]
    }
   ],
   "source": [
    "df = main(\n",
    "    start_period = None, \n",
    "    end_period = \"2023-05-31\", \n",
    "    country = [\"USD\", \"JPY\", \"BGN\", \"CZK\", \"DKK\", \"GBP\", \"HUF\", \"PLN\", \"RON\", \"SEK\", \"CHF\", \"ISK\", \"NOK\", \"HRK\", \n",
    "               \"RUB\", \"TRY\", \"AUD\", \"BRL\", \"CAD\", \"CNY\", \"HKD\", \"IDR\", \"ILS\", \"INR\", \"KRW\", \"MXN\", \"MYR\", \"NZD\", \"PHP\", \"SGD\", \"THB\", \"ZAR\"]\n",
    ")"
   ]
  },
  {
   "cell_type": "code",
   "execution_count": 5,
   "metadata": {},
   "outputs": [
    {
     "data": {
      "text/html": [
       "<div>\n",
       "<style scoped>\n",
       "    .dataframe tbody tr th:only-of-type {\n",
       "        vertical-align: middle;\n",
       "    }\n",
       "\n",
       "    .dataframe tbody tr th {\n",
       "        vertical-align: top;\n",
       "    }\n",
       "\n",
       "    .dataframe thead th {\n",
       "        text-align: right;\n",
       "    }\n",
       "</style>\n",
       "<table border=\"1\" class=\"dataframe\">\n",
       "  <thead>\n",
       "    <tr style=\"text-align: right;\">\n",
       "      <th></th>\n",
       "      <th>ORIGIN_CURRENCY</th>\n",
       "      <th>TARGET_CURRENCY</th>\n",
       "      <th>REPORT_DATE</th>\n",
       "      <th>EXCHANGE_RATE</th>\n",
       "      <th>MODIFIED_DATE</th>\n",
       "      <th>SOURCE</th>\n",
       "      <th>ID</th>\n",
       "    </tr>\n",
       "  </thead>\n",
       "  <tbody>\n",
       "    <tr>\n",
       "      <th>6313</th>\n",
       "      <td>USD</td>\n",
       "      <td>EUR</td>\n",
       "      <td>2023-05-31</td>\n",
       "      <td>1.06830</td>\n",
       "      <td>2023-08-01</td>\n",
       "      <td>ECB</td>\n",
       "      <td>1</td>\n",
       "    </tr>\n",
       "    <tr>\n",
       "      <th>6313</th>\n",
       "      <td>JPY</td>\n",
       "      <td>EUR</td>\n",
       "      <td>2023-05-31</td>\n",
       "      <td>149.13000</td>\n",
       "      <td>2023-08-01</td>\n",
       "      <td>ECB</td>\n",
       "      <td>2</td>\n",
       "    </tr>\n",
       "    <tr>\n",
       "      <th>5911</th>\n",
       "      <td>BGN</td>\n",
       "      <td>EUR</td>\n",
       "      <td>2023-05-31</td>\n",
       "      <td>1.95580</td>\n",
       "      <td>2023-08-01</td>\n",
       "      <td>ECB</td>\n",
       "      <td>3</td>\n",
       "    </tr>\n",
       "    <tr>\n",
       "      <th>6313</th>\n",
       "      <td>CZK</td>\n",
       "      <td>EUR</td>\n",
       "      <td>2023-05-31</td>\n",
       "      <td>23.74100</td>\n",
       "      <td>2023-08-01</td>\n",
       "      <td>ECB</td>\n",
       "      <td>4</td>\n",
       "    </tr>\n",
       "    <tr>\n",
       "      <th>6313</th>\n",
       "      <td>DKK</td>\n",
       "      <td>EUR</td>\n",
       "      <td>2023-05-31</td>\n",
       "      <td>7.44800</td>\n",
       "      <td>2023-08-01</td>\n",
       "      <td>ECB</td>\n",
       "      <td>5</td>\n",
       "    </tr>\n",
       "    <tr>\n",
       "      <th>6313</th>\n",
       "      <td>GBP</td>\n",
       "      <td>EUR</td>\n",
       "      <td>2023-05-31</td>\n",
       "      <td>0.86405</td>\n",
       "      <td>2023-08-01</td>\n",
       "      <td>ECB</td>\n",
       "      <td>6</td>\n",
       "    </tr>\n",
       "  </tbody>\n",
       "</table>\n",
       "</div>"
      ],
      "text/plain": [
       "     ORIGIN_CURRENCY TARGET_CURRENCY REPORT_DATE  EXCHANGE_RATE MODIFIED_DATE  \\\n",
       "6313             USD             EUR  2023-05-31        1.06830    2023-08-01   \n",
       "6313             JPY             EUR  2023-05-31      149.13000    2023-08-01   \n",
       "5911             BGN             EUR  2023-05-31        1.95580    2023-08-01   \n",
       "6313             CZK             EUR  2023-05-31       23.74100    2023-08-01   \n",
       "6313             DKK             EUR  2023-05-31        7.44800    2023-08-01   \n",
       "6313             GBP             EUR  2023-05-31        0.86405    2023-08-01   \n",
       "\n",
       "     SOURCE  ID  \n",
       "6313    ECB   1  \n",
       "6313    ECB   2  \n",
       "5911    ECB   3  \n",
       "6313    ECB   4  \n",
       "6313    ECB   5  \n",
       "6313    ECB   6  "
      ]
     },
     "execution_count": 5,
     "metadata": {},
     "output_type": "execute_result"
    }
   ],
   "source": [
    "df"
   ]
  },
  {
   "cell_type": "code",
   "execution_count": null,
   "metadata": {},
   "outputs": [],
   "source": []
  }
 ],
 "metadata": {
  "kernelspec": {
   "display_name": "de_venv",
   "language": "python",
   "name": "python3"
  },
  "language_info": {
   "codemirror_mode": {
    "name": "ipython",
    "version": 3
   },
   "file_extension": ".py",
   "mimetype": "text/x-python",
   "name": "python",
   "nbconvert_exporter": "python",
   "pygments_lexer": "ipython3",
   "version": "3.11.4"
  },
  "orig_nbformat": 4
 },
 "nbformat": 4,
 "nbformat_minor": 2
}
